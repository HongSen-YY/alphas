{
 "cells": [
  {
   "cell_type": "code",
   "execution_count": null,
   "metadata": {},
   "outputs": [],
   "source": [
    "import pandas as pd\n",
    "from datas import *\n",
    "\n",
    "year = 2019\n",
    "list_assets, df_assets = get_zz500_stocks(f'{year}-01-01')\n",
    "dfs= get_all_date_data(f'{year}-01-01', f'{year+1}-01-01', list_assets)\n",
    "\n",
    "\n",
    "df_all = dfs[['date', 'asset', \"close\"]]\n",
    "df_all['date'] = pd.to_datetime(df_all['date'])\n",
    "# print(df_all)\n",
    "\n",
    "close = df_all.pivot(index='date', columns='asset', values='close')\n",
    "# close.index = pd.to_datetime(close.index)\n",
    "print(close)"
   ]
  },
  {
   "cell_type": "code",
   "execution_count": null,
   "metadata": {},
   "outputs": [],
   "source": [
    "###########################简单现计算的因子#######################################\n",
    "# alpha = dfs[['date', 'asset', \"pctChg\"]]\n",
    "# alpha = alpha.rename(columns={\n",
    "#         \"pctChg\": \"factor\"})\n",
    "# alpha['date'] = pd.to_datetime(alpha['date'])\n",
    "# alpha = alpha.set_index(['date', 'asset'], drop=True)\n",
    "# alpha.sort_index(inplace=True)\n",
    "# print(alpha)\n",
    "\n",
    "############################已计算好存在文件中的因子######################################\n",
    "alpha_num = 5\n",
    "alpha_name = 'Alphas191'\n",
    "\n",
    "# 读取已经计算好的因子\n",
    "alpha = pd.read_csv('alphas/{}/{}/alpha{:03d}.csv'.format(alpha_name, year, alpha_num))\n",
    "\n",
    "# 筛选出今年的数据，需与股票收盘日期区间一致\n",
    "alpha = alpha[(alpha['date'] >= f'{year}-01-01') & (alpha['date'] <= f'{year+1}-01-01')]\n",
    "\n",
    "# 因子矩阵转换为一维数据(alphalens需要的格式)\n",
    "alpha = alpha.melt(id_vars=['date'], var_name='asset', value_name='factor' )\n",
    "\n",
    "# date列转为日期格式\n",
    "alpha['date'] = pd.to_datetime(alpha['date'])\n",
    "alpha = alpha[['date', 'asset', 'factor']]\n",
    "\n",
    "# 设置二级索引\n",
    "alpha = alpha.set_index(['date', 'asset'], drop=True)\n",
    "alpha.sort_index(inplace=True)\n",
    "print(alpha)\n",
    "\n",
    "#############################因子分析#######################################\n",
    "\n",
    "from alphalens.utils import get_clean_factor_and_forward_returns\n",
    "from alphalens.tears import create_full_tear_sheet\n",
    "\n",
    "ret = get_clean_factor_and_forward_returns(alpha, close,quantiles=10)\n",
    "create_full_tear_sheet(ret, long_short=True)"
   ]
  }
 ],
 "metadata": {
  "kernelspec": {
   "display_name": "base",
   "language": "python",
   "name": "python3"
  },
  "language_info": {
   "codemirror_mode": {
    "name": "ipython",
    "version": 3
   },
   "file_extension": ".py",
   "mimetype": "text/x-python",
   "name": "python",
   "nbconvert_exporter": "python",
   "pygments_lexer": "ipython3",
   "version": "3.8.8"
  },
  "orig_nbformat": 4,
  "vscode": {
   "interpreter": {
    "hash": "e42634819b8c191a5d07eaf23810ff32516dd8d3875f28ec3e488928fbd3c187"
   }
  }
 },
 "nbformat": 4,
 "nbformat_minor": 2
}
